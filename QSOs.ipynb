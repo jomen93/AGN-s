{
 "cells": [
  {
   "cell_type": "markdown",
   "metadata": {},
   "source": [
    "# QSOs FITS"
   ]
  },
  {
   "cell_type": "markdown",
   "metadata": {},
   "source": [
    "Import necessary libraries "
   ]
  },
  {
   "cell_type": "code",
   "execution_count": 3,
   "metadata": {},
   "outputs": [],
   "source": [
    "import numpy as np \n",
    "import matplotlib.pyplot as plt\n",
    "from astropy.io import fits\n",
    "import pandas as pd \n",
    "import os\n",
    "from urllib import request\n",
    "import ssl\n",
    "from astropy.io import fits\n",
    "\n"
   ]
  },
  {
   "cell_type": "markdown",
   "metadata": {},
   "source": [
    "Function to download data from a txt file with links "
   ]
  },
  {
   "cell_type": "code",
   "execution_count": 101,
   "metadata": {},
   "outputs": [
    {
     "name": "stdout",
     "output_type": "stream",
     "text": [
      "Creation of the directory FITS_data already was done\n",
      "spec-0288-52000-0266.fits\n",
      "spec-0514-51994-0450.fits\n",
      "spec-0597-52059-0604.fits\n",
      "spec-0599-52317-0297.fits\n",
      "spec-0599-52317-0483.fits\n",
      "spec-0777-52320-0058.fits\n",
      "spec-0777-52320-0116.fits\n",
      "spec-0778-52337-0231.fits\n",
      "spec-0778-52337-0504.fits\n",
      "spec-0778-54525-0229.fits\n",
      "spec-0778-54525-0507.fits\n",
      "spec-0840-52374-0047.fits\n",
      "spec-0841-52375-0411.fits\n",
      "spec-0880-52367-0491.fits\n",
      "spec-0881-52368-0206.fits\n",
      "spec-0884-52374-0268.fits\n",
      "spec-0952-52409-0035.fits\n",
      "spec-0968-52412-0229.fits\n",
      "spec-0970-52413-0120.fits\n",
      "spec-1015-52709-0084.fits\n",
      "spec-1015-52734-0085.fits\n",
      "spec-1229-52723-0397.fits\n",
      "spec-1229-52723-0409.fits\n",
      "spec-1314-52792-0419.fits\n",
      "spec-1314-52792-0477.fits\n",
      "spec-1314-53050-0420.fits\n",
      "spec-1314-53050-0472.fits\n",
      "spec-1367-53083-0419.fits\n",
      "spec-1367-53083-0424.fits\n",
      "spec-1368-53084-0518.fits\n",
      "spec-1368-53084-0555.fits\n",
      "spec-1368-53084-0565.fits\n",
      "spec-1369-53089-0392.fits\n",
      "spec-1369-53089-0581.fits\n",
      "spec-1369-53089-0611.fits\n",
      "spec-1444-53054-0011.fits\n",
      "spec-1444-53054-0115.fits\n",
      "spec-1444-53054-0131.fits\n",
      "spec-1445-53062-0488.fits\n",
      "spec-1446-53080-0569.fits\n",
      "spec-1447-53120-0571.fits\n",
      "spec-1449-53116-0001.fits\n",
      "spec-1450-53120-0486.fits\n",
      "spec-1608-53138-0208.fits\n",
      "spec-1612-53149-0172.fits\n",
      "spec-1613-53115-0254.fits\n",
      "spec-1620-53137-0499.fits\n",
      "spec-1621-53383-0621.fits\n",
      "spec-1761-53376-0304.fits\n",
      "spec-1763-53463-0271.fits\n"
     ]
    }
   ],
   "source": [
    "file = \"download_url.7.txt\"\n",
    "def Download_data(file,n):\n",
    "    files = \"FITS_data\"\n",
    "    f = open(file,\"r\")\n",
    "    ssl._create_default_https_context = ssl._create_unverified_context\n",
    "    try:\n",
    "        os.mkdir(files)\n",
    "    except OSError:\n",
    "        print(\"Creation of the directory %s already was done\" % files)\n",
    "    else:\n",
    "        print (\"Successfully created the directory %s\" % files)\n",
    "        \n",
    "    for i in f.readlines()[0:n]:\n",
    "        print(i[-26:-1])\n",
    "        request.urlretrieve(i, files+\"/\"+i[-26:-1])\n",
    "\n",
    "\n",
    "Download_data(file,50)"
   ]
  },
  {
   "cell_type": "markdown",
   "metadata": {},
   "source": [
    "Save data the plot data and make a few plots"
   ]
  },
  {
   "cell_type": "code",
   "execution_count": 9,
   "metadata": {},
   "outputs": [],
   "source": [
    "datadir = \"FITS_data/\"\n",
    "I = []\n",
    "for i in range(len(os.listdir(datadir))):\n",
    "    I.append(fits.open(datadir+os.listdir(datadir)[i]))\n",
    "\n",
    "\n",
    "X = [];Y = [];titles =[]\n",
    "\n",
    "for img in range(len(os.listdir(datadir))):\n",
    "    X.append(np.array([I[img][1].data[i][1] for i in range(len(I[img][1].data))]))\n",
    "    Y.append(np.array([I[img][1].data[i][0] for i in range(len(I[img][1].data))]))\n",
    "    titles.append(os.listdir(datadir)[img])\n",
    "\n"
   ]
  },
  {
   "cell_type": "code",
   "execution_count": null,
   "metadata": {},
   "outputs": [],
   "source": [
    "hα = 6563 #Amstrong \n",
    "O3 = 5007 #Amstrong \n",
    "hβ = 4861 #Amstrong\n",
    "\n",
    "fig, ax = plt.subplots(25, 4, figsize = (12, 36))\n",
    "fig.suptitle('Some spectrums')\n",
    "fig.tight_layout(pad = 0.3, rect = [0, 0, 0.9, 0.9])\n",
    "fig.tight_layout()\n",
    "for x, y in [(i,j) for i in range(25) for j in range (4)]:\n",
    "    ax[x,y].plot(X[x+y],Y[x+y],\"b-\")\n",
    "    ax[x,y].grid(True)\n",
    "    ax[x,y].set_title(titles[x+y])\n",
    "    #ax[x,y].set_axvline(x=hα, color='r', linestyle='-')\n",
    "    #ax[x,y].set_axvline(x=O3, color='g', linestyle='-')\n",
    "    #ax[x,y].set_axvline(x=hβ, color='y', linestyle='-')\n"
   ]
  },
  {
   "cell_type": "code",
   "execution_count": 82,
   "metadata": {},
   "outputs": [
    {
     "data": {
      "text/plain": [
       "[<astropy.io.fits.hdu.image.PrimaryHDU object at 0x118e39320>, <astropy.io.fits.hdu.table.BinTableHDU object at 0x11924eba8>, <astropy.io.fits.hdu.table.BinTableHDU object at 0x118dffcf8>, <astropy.io.fits.hdu.table.BinTableHDU object at 0x11a3f2320>]"
      ]
     },
     "execution_count": 82,
     "metadata": {},
     "output_type": "execute_result"
    }
   ],
   "source": [
    "I[0]"
   ]
  },
  {
   "cell_type": "code",
   "execution_count": 83,
   "metadata": {},
   "outputs": [
    {
     "data": {
      "text/plain": [
       "<matplotlib.lines.Line2D at 0x123978be0>"
      ]
     },
     "execution_count": 83,
     "metadata": {},
     "output_type": "execute_result"
    },
    {
     "data": {
      "image/png": "[encoded data removed]",
      "text/plain": [
       "<Figure size 432x288 with 1 Axes>"
      ]
     },
     "metadata": {
      "needs_background": "light"
     },
     "output_type": "display_data"
    }
   ],
   "source": [
    "plt.plot(10**X[1],Y[1],\"b\")\n",
    "hα = 6563 #Amstrong \n",
    "O3 = 5007 #Amstrong \n",
    "hβ = 4861 #Amstrong\n",
    "plt.axvline(x=hα, color='r', linestyle='-')\n",
    "plt.axvline(x=O3, color='g', linestyle='-')\n",
    "plt.axvline(x=hβ, color='y', linestyle='-')"
   ]
  },
  {
   "cell_type": "code",
   "execution_count": 99,
   "metadata": {},
   "outputs": [
    {
     "data": {
      "text/plain": [
       "0      1.017060\n",
       "1      0.299713\n",
       "2      0.299645\n",
       "3      0.060983\n",
       "4      0.061078\n",
       "5      0.491609\n",
       "6      1.820070\n",
       "7      1.931240\n",
       "8      1.930120\n",
       "9      0.736597\n",
       "10     0.736525\n",
       "11     0.529927\n",
       "12     0.529861\n",
       "13     0.530176\n",
       "14     0.529764\n",
       "15     1.263930\n",
       "16     1.263630\n",
       "17     0.804303\n",
       "18     1.441180\n",
       "19     2.135810\n",
       "20     1.624080\n",
       "21     1.630610\n",
       "22     0.307236\n",
       "23     0.307108\n",
       "24     0.519425\n",
       "25     0.114864\n",
       "26     0.115114\n",
       "27     2.615520\n",
       "28     2.615010\n",
       "29     0.706472\n",
       "         ...   \n",
       "137    0.514757\n",
       "138    2.113220\n",
       "139    2.111580\n",
       "140    0.063490\n",
       "141    2.882070\n",
       "142    2.310890\n",
       "143    2.313960\n",
       "144    2.703720\n",
       "145    2.707320\n",
       "146    1.499270\n",
       "147    1.500510\n",
       "148    1.024170\n",
       "149    1.086770\n",
       "150    2.048000\n",
       "151    2.375280\n",
       "152    2.370900\n",
       "153    2.206070\n",
       "154    2.202840\n",
       "155    2.209950\n",
       "156    2.265700\n",
       "157    2.268560\n",
       "158    1.499250\n",
       "159    1.498590\n",
       "160    2.698760\n",
       "161    2.700760\n",
       "162    1.871800\n",
       "163    1.127150\n",
       "164    1.126540\n",
       "165    2.196960\n",
       "166    2.198010\n",
       "Name: z, Length: 167, dtype: float64"
      ]
     },
     "execution_count": 99,
     "metadata": {},
     "output_type": "execute_result"
    }
   ],
   "source": [
    "tabla = pd.read_csv(\"PRUEBA7.csv\",delimiter=\",\")\n",
    "tabla[\"z\"]"
   ]
  },
  {
   "cell_type": "code",
   "execution_count": null,
   "metadata": {},
   "outputs": [],
   "source": []
  },
  {
   "cell_type": "code",
   "execution_count": null,
   "metadata": {},
   "outputs": [],
   "source": []
  }
 ],
 "metadata": {
  "kernelspec": {
   "display_name": "Python 3",
   "language": "python",
   "name": "python3"
  },
  "language_info": {
   "codemirror_mode": {
    "name": "ipython",
    "version": 3
   },
   "file_extension": ".py",
   "mimetype": "text/x-python",
   "name": "python",
   "nbconvert_exporter": "python",
   "pygments_lexer": "ipython3",
   "version": "3.6.4"
  }
 },
 "nbformat": 4,
 "nbformat_minor": 2
}
